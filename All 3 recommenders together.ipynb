{
 "cells": [
  {
   "cell_type": "code",
   "execution_count": 1,
   "id": "35609d75-0e7f-49f8-a5b6-528b002785d4",
   "metadata": {},
   "outputs": [],
   "source": [
    "import pandas as pd\n",
    "import numpy as np\n",
    "\n",
    "from sklearn.preprocessing import RobustScaler, StandardScaler, MinMaxScaler\n",
    "from sklearn.metrics.pairwise import cosine_similarity"
   ]
  },
  {
   "cell_type": "code",
   "execution_count": 2,
   "id": "567ddccf-3673-4623-b48f-6c5802a2843d",
   "metadata": {},
   "outputs": [],
   "source": [
    "movies = pd.read_csv('data/movies.csv')\n",
    "ratings = pd.read_csv('data/ratings.csv')\n",
    "links = pd.read_csv('data/links.csv')\n",
    "tags = pd.read_csv('data/tags.csv')"
   ]
  },
  {
   "cell_type": "code",
   "execution_count": 3,
   "id": "266ae173-8ce3-4ee7-9903-2c13a3559212",
   "metadata": {},
   "outputs": [
    {
     "data": {
      "text/html": [
       "<div>\n",
       "<style scoped>\n",
       "    .dataframe tbody tr th:only-of-type {\n",
       "        vertical-align: middle;\n",
       "    }\n",
       "\n",
       "    .dataframe tbody tr th {\n",
       "        vertical-align: top;\n",
       "    }\n",
       "\n",
       "    .dataframe thead th {\n",
       "        text-align: right;\n",
       "    }\n",
       "</style>\n",
       "<table border=\"1\" class=\"dataframe\">\n",
       "  <thead>\n",
       "    <tr style=\"text-align: right;\">\n",
       "      <th></th>\n",
       "      <th>movieId</th>\n",
       "      <th>title</th>\n",
       "      <th>genres</th>\n",
       "    </tr>\n",
       "  </thead>\n",
       "  <tbody>\n",
       "    <tr>\n",
       "      <th>0</th>\n",
       "      <td>1</td>\n",
       "      <td>Toy Story (1995)</td>\n",
       "      <td>Adventure|Animation|Children|Comedy|Fantasy</td>\n",
       "    </tr>\n",
       "    <tr>\n",
       "      <th>1</th>\n",
       "      <td>2</td>\n",
       "      <td>Jumanji (1995)</td>\n",
       "      <td>Adventure|Children|Fantasy</td>\n",
       "    </tr>\n",
       "    <tr>\n",
       "      <th>2</th>\n",
       "      <td>3</td>\n",
       "      <td>Grumpier Old Men (1995)</td>\n",
       "      <td>Comedy|Romance</td>\n",
       "    </tr>\n",
       "    <tr>\n",
       "      <th>3</th>\n",
       "      <td>4</td>\n",
       "      <td>Waiting to Exhale (1995)</td>\n",
       "      <td>Comedy|Drama|Romance</td>\n",
       "    </tr>\n",
       "    <tr>\n",
       "      <th>4</th>\n",
       "      <td>5</td>\n",
       "      <td>Father of the Bride Part II (1995)</td>\n",
       "      <td>Comedy</td>\n",
       "    </tr>\n",
       "    <tr>\n",
       "      <th>...</th>\n",
       "      <td>...</td>\n",
       "      <td>...</td>\n",
       "      <td>...</td>\n",
       "    </tr>\n",
       "    <tr>\n",
       "      <th>9737</th>\n",
       "      <td>193581</td>\n",
       "      <td>Black Butler: Book of the Atlantic (2017)</td>\n",
       "      <td>Action|Animation|Comedy|Fantasy</td>\n",
       "    </tr>\n",
       "    <tr>\n",
       "      <th>9738</th>\n",
       "      <td>193583</td>\n",
       "      <td>No Game No Life: Zero (2017)</td>\n",
       "      <td>Animation|Comedy|Fantasy</td>\n",
       "    </tr>\n",
       "    <tr>\n",
       "      <th>9739</th>\n",
       "      <td>193585</td>\n",
       "      <td>Flint (2017)</td>\n",
       "      <td>Drama</td>\n",
       "    </tr>\n",
       "    <tr>\n",
       "      <th>9740</th>\n",
       "      <td>193587</td>\n",
       "      <td>Bungo Stray Dogs: Dead Apple (2018)</td>\n",
       "      <td>Action|Animation</td>\n",
       "    </tr>\n",
       "    <tr>\n",
       "      <th>9741</th>\n",
       "      <td>193609</td>\n",
       "      <td>Andrew Dice Clay: Dice Rules (1991)</td>\n",
       "      <td>Comedy</td>\n",
       "    </tr>\n",
       "  </tbody>\n",
       "</table>\n",
       "<p>9742 rows × 3 columns</p>\n",
       "</div>"
      ],
      "text/plain": [
       "      movieId                                      title  \\\n",
       "0           1                           Toy Story (1995)   \n",
       "1           2                             Jumanji (1995)   \n",
       "2           3                    Grumpier Old Men (1995)   \n",
       "3           4                   Waiting to Exhale (1995)   \n",
       "4           5         Father of the Bride Part II (1995)   \n",
       "...       ...                                        ...   \n",
       "9737   193581  Black Butler: Book of the Atlantic (2017)   \n",
       "9738   193583               No Game No Life: Zero (2017)   \n",
       "9739   193585                               Flint (2017)   \n",
       "9740   193587        Bungo Stray Dogs: Dead Apple (2018)   \n",
       "9741   193609        Andrew Dice Clay: Dice Rules (1991)   \n",
       "\n",
       "                                           genres  \n",
       "0     Adventure|Animation|Children|Comedy|Fantasy  \n",
       "1                      Adventure|Children|Fantasy  \n",
       "2                                  Comedy|Romance  \n",
       "3                            Comedy|Drama|Romance  \n",
       "4                                          Comedy  \n",
       "...                                           ...  \n",
       "9737              Action|Animation|Comedy|Fantasy  \n",
       "9738                     Animation|Comedy|Fantasy  \n",
       "9739                                        Drama  \n",
       "9740                             Action|Animation  \n",
       "9741                                       Comedy  \n",
       "\n",
       "[9742 rows x 3 columns]"
      ]
     },
     "execution_count": 3,
     "metadata": {},
     "output_type": "execute_result"
    }
   ],
   "source": [
    "movies"
   ]
  },
  {
   "cell_type": "markdown",
   "id": "f2dfa7f1-fd57-4dce-8724-76097b9e7d9e",
   "metadata": {},
   "source": [
    "## All recommenders individually"
   ]
  },
  {
   "cell_type": "markdown",
   "id": "c7f17496-d0d5-427e-8fe6-ab34a561072c",
   "metadata": {},
   "source": [
    "### Popularity-based"
   ]
  },
  {
   "cell_type": "code",
   "execution_count": 20,
   "id": "56d84463-08c5-4804-8d9b-c5e74d1f8811",
   "metadata": {},
   "outputs": [],
   "source": [
    "def top_movies(number):\n",
    "    ratings_new = pd.DataFrame(ratings.groupby('movieId')['rating'].mean())\n",
    "    ratings_new['rating_count'] = ratings.groupby('movieId')['rating'].count()\n",
    "    # 1. initialize the transformer (optionally, set parameters)\n",
    "    my_min_max = StandardScaler()\n",
    "    # 2. fit the transformer to the data\n",
    "    my_min_max.fit(ratings_new)\n",
    "    # 3. use the transformer to transform the data\n",
    "    min_max_scaled_ratings_new = my_min_max.transform(ratings_new)\n",
    "    # 4. reconvert the transformed data back to a DataFrame\n",
    "    df_min_max_scaled_ratings_new = pd.DataFrame(min_max_scaled_ratings_new,\n",
    "                 index=ratings_new.index,\n",
    "                 columns=ratings_new.columns)\n",
    "    df_min_max_scaled_ratings_new['score'] = df_min_max_scaled_ratings_new['rating'] * df_min_max_scaled_ratings_new['rating_count']\n",
    "    top_number = df_min_max_scaled_ratings_new.sort_values(by = 'score', ascending = False).head(number).reset_index()\n",
    "    top_number_with_titles = pd.merge(movies, top_number, how='inner', on = 'movieId')\n",
    "    return top_number_with_titles.sort_values(by = 'score', ascending = False)['title'].to_list()"
   ]
  },
  {
   "cell_type": "code",
   "execution_count": 21,
   "id": "4fe1311e-7a0f-4dcb-b3c6-c383425fd3da",
   "metadata": {},
   "outputs": [
    {
     "data": {
      "text/plain": [
       "['Shawshank Redemption, The (1994)',\n",
       " 'Forrest Gump (1994)',\n",
       " 'Pulp Fiction (1994)',\n",
       " 'Matrix, The (1999)',\n",
       " 'Silence of the Lambs, The (1991)',\n",
       " 'Star Wars: Episode IV - A New Hope (1977)',\n",
       " 'Fight Club (1999)',\n",
       " \"Schindler's List (1993)\",\n",
       " 'Star Wars: Episode V - The Empire Strikes Back (1980)',\n",
       " 'Usual Suspects, The (1995)']"
      ]
     },
     "execution_count": 21,
     "metadata": {},
     "output_type": "execute_result"
    }
   ],
   "source": [
    "top_movies(10)"
   ]
  },
  {
   "cell_type": "markdown",
   "id": "0037b692-c436-4474-9e08-f6b501fc763d",
   "metadata": {},
   "source": [
    "### Item-based"
   ]
  },
  {
   "cell_type": "code",
   "execution_count": 106,
   "id": "7b7984fc-f71e-493f-9c4d-add684cbbbe9",
   "metadata": {},
   "outputs": [
    {
     "data": {
      "text/html": [
       "<div>\n",
       "<style scoped>\n",
       "    .dataframe tbody tr th:only-of-type {\n",
       "        vertical-align: middle;\n",
       "    }\n",
       "\n",
       "    .dataframe tbody tr th {\n",
       "        vertical-align: top;\n",
       "    }\n",
       "\n",
       "    .dataframe thead th {\n",
       "        text-align: right;\n",
       "    }\n",
       "</style>\n",
       "<table border=\"1\" class=\"dataframe\">\n",
       "  <thead>\n",
       "    <tr style=\"text-align: right;\">\n",
       "      <th></th>\n",
       "      <th>movieId</th>\n",
       "      <th>title</th>\n",
       "      <th>genres</th>\n",
       "      <th>title_wo_yr</th>\n",
       "    </tr>\n",
       "  </thead>\n",
       "  <tbody>\n",
       "    <tr>\n",
       "      <th>0</th>\n",
       "      <td>1</td>\n",
       "      <td>Toy Story (1995)</td>\n",
       "      <td>Adventure|Animation|Children|Comedy|Fantasy</td>\n",
       "      <td>Toy Story</td>\n",
       "    </tr>\n",
       "    <tr>\n",
       "      <th>1</th>\n",
       "      <td>2</td>\n",
       "      <td>Jumanji (1995)</td>\n",
       "      <td>Adventure|Children|Fantasy</td>\n",
       "      <td>Jumanji</td>\n",
       "    </tr>\n",
       "    <tr>\n",
       "      <th>2</th>\n",
       "      <td>3</td>\n",
       "      <td>Grumpier Old Men (1995)</td>\n",
       "      <td>Comedy|Romance</td>\n",
       "      <td>Grumpier Old Men</td>\n",
       "    </tr>\n",
       "    <tr>\n",
       "      <th>3</th>\n",
       "      <td>4</td>\n",
       "      <td>Waiting to Exhale (1995)</td>\n",
       "      <td>Comedy|Drama|Romance</td>\n",
       "      <td>Waiting to Exhale</td>\n",
       "    </tr>\n",
       "    <tr>\n",
       "      <th>4</th>\n",
       "      <td>5</td>\n",
       "      <td>Father of the Bride Part II (1995)</td>\n",
       "      <td>Comedy</td>\n",
       "      <td>Father of the Bride Part II</td>\n",
       "    </tr>\n",
       "    <tr>\n",
       "      <th>...</th>\n",
       "      <td>...</td>\n",
       "      <td>...</td>\n",
       "      <td>...</td>\n",
       "      <td>...</td>\n",
       "    </tr>\n",
       "    <tr>\n",
       "      <th>9737</th>\n",
       "      <td>193581</td>\n",
       "      <td>Black Butler: Book of the Atlantic (2017)</td>\n",
       "      <td>Action|Animation|Comedy|Fantasy</td>\n",
       "      <td>Black Butler: Book of the Atlantic</td>\n",
       "    </tr>\n",
       "    <tr>\n",
       "      <th>9738</th>\n",
       "      <td>193583</td>\n",
       "      <td>No Game No Life: Zero (2017)</td>\n",
       "      <td>Animation|Comedy|Fantasy</td>\n",
       "      <td>No Game No Life: Zero</td>\n",
       "    </tr>\n",
       "    <tr>\n",
       "      <th>9739</th>\n",
       "      <td>193585</td>\n",
       "      <td>Flint (2017)</td>\n",
       "      <td>Drama</td>\n",
       "      <td>Flint</td>\n",
       "    </tr>\n",
       "    <tr>\n",
       "      <th>9740</th>\n",
       "      <td>193587</td>\n",
       "      <td>Bungo Stray Dogs: Dead Apple (2018)</td>\n",
       "      <td>Action|Animation</td>\n",
       "      <td>Bungo Stray Dogs: Dead Apple</td>\n",
       "    </tr>\n",
       "    <tr>\n",
       "      <th>9741</th>\n",
       "      <td>193609</td>\n",
       "      <td>Andrew Dice Clay: Dice Rules (1991)</td>\n",
       "      <td>Comedy</td>\n",
       "      <td>Andrew Dice Clay: Dice Rules</td>\n",
       "    </tr>\n",
       "  </tbody>\n",
       "</table>\n",
       "<p>9742 rows × 4 columns</p>\n",
       "</div>"
      ],
      "text/plain": [
       "      movieId                                      title  \\\n",
       "0           1                           Toy Story (1995)   \n",
       "1           2                             Jumanji (1995)   \n",
       "2           3                    Grumpier Old Men (1995)   \n",
       "3           4                   Waiting to Exhale (1995)   \n",
       "4           5         Father of the Bride Part II (1995)   \n",
       "...       ...                                        ...   \n",
       "9737   193581  Black Butler: Book of the Atlantic (2017)   \n",
       "9738   193583               No Game No Life: Zero (2017)   \n",
       "9739   193585                               Flint (2017)   \n",
       "9740   193587        Bungo Stray Dogs: Dead Apple (2018)   \n",
       "9741   193609        Andrew Dice Clay: Dice Rules (1991)   \n",
       "\n",
       "                                           genres  \\\n",
       "0     Adventure|Animation|Children|Comedy|Fantasy   \n",
       "1                      Adventure|Children|Fantasy   \n",
       "2                                  Comedy|Romance   \n",
       "3                            Comedy|Drama|Romance   \n",
       "4                                          Comedy   \n",
       "...                                           ...   \n",
       "9737              Action|Animation|Comedy|Fantasy   \n",
       "9738                     Animation|Comedy|Fantasy   \n",
       "9739                                        Drama   \n",
       "9740                             Action|Animation   \n",
       "9741                                       Comedy   \n",
       "\n",
       "                             title_wo_yr  \n",
       "0                              Toy Story  \n",
       "1                                Jumanji  \n",
       "2                       Grumpier Old Men  \n",
       "3                      Waiting to Exhale  \n",
       "4            Father of the Bride Part II  \n",
       "...                                  ...  \n",
       "9737  Black Butler: Book of the Atlantic  \n",
       "9738               No Game No Life: Zero  \n",
       "9739                               Flint  \n",
       "9740        Bungo Stray Dogs: Dead Apple  \n",
       "9741        Andrew Dice Clay: Dice Rules  \n",
       "\n",
       "[9742 rows x 4 columns]"
      ]
     },
     "execution_count": 106,
     "metadata": {},
     "output_type": "execute_result"
    }
   ],
   "source": [
    "movies"
   ]
  },
  {
   "cell_type": "code",
   "execution_count": 22,
   "id": "065b473c-a0da-4c4c-b148-6e3bd3c6beac",
   "metadata": {},
   "outputs": [],
   "source": [
    "def top_movies(title, number):\n",
    "    movies['title_wo_yr'] = movies['title'].str[:-7]\n",
    "    movies_crosstab = pd.pivot_table(data=ratings, values='rating', index='userId', columns='movieId')\n",
    "    top_popular_movieID = int(movies['movieId'].loc[movies['title_wo_yr'] == title])\n",
    "    top_ratings = movies_crosstab[top_popular_movieID]\n",
    "    top_ratings[top_ratings.notna()]\n",
    "    similar_to_movie_id = movies_crosstab.corrwith(top_ratings)\n",
    "    corr_movie_id = pd.DataFrame(similar_to_movie_id, columns=['PearsonR'])\n",
    "    corr_movie_id.dropna(inplace=True)\n",
    "    rating = pd.DataFrame(ratings.groupby('movieId')['rating'].mean())\n",
    "    rating['rating_count'] = ratings.groupby('movieId')['rating'].count()\n",
    "    movie_id_corr_summary = corr_movie_id.join(rating['rating_count'])\n",
    "    movie_id_corr_summary.drop(top_popular_movieID, inplace=True)\n",
    "    top_number = movie_id_corr_summary[movie_id_corr_summary['rating_count']>=10].sort_values('PearsonR', ascending=False).head(number)\n",
    "    top_number_with_titles = pd.merge(movies, top_number, how='inner', on = 'movieId')\n",
    "    return top_number_with_titles['title'].to_list()"
   ]
  },
  {
   "cell_type": "code",
   "execution_count": 23,
   "id": "63083c96-d925-42f1-8871-ce19e170ca3e",
   "metadata": {},
   "outputs": [
    {
     "name": "stderr",
     "output_type": "stream",
     "text": [
      "/Users/florianbogner/opt/anaconda3/lib/python3.9/site-packages/numpy/lib/function_base.py:2634: RuntimeWarning: Degrees of freedom <= 0 for slice\n",
      "  c = cov(x, y, rowvar, dtype=dtype)\n",
      "/Users/florianbogner/opt/anaconda3/lib/python3.9/site-packages/numpy/lib/function_base.py:2493: RuntimeWarning: divide by zero encountered in true_divide\n",
      "  c *= np.true_divide(1, fact)\n"
     ]
    },
    {
     "data": {
      "text/plain": [
       "['Disclosure (1994)',\n",
       " 'Piano, The (1993)',\n",
       " 'Renaissance Man (1994)',\n",
       " 'Six Degrees of Separation (1993)',\n",
       " 'All Dogs Go to Heaven 2 (1996)',\n",
       " 'Friday the 13th (1980)',\n",
       " 'Elizabeth (1998)',\n",
       " 'Young Sherlock Holmes (1985)',\n",
       " 'Milk (2008)',\n",
       " 'Warrior (2011)']"
      ]
     },
     "execution_count": 23,
     "metadata": {},
     "output_type": "execute_result"
    }
   ],
   "source": [
    "top_movies('Transformers', 10)"
   ]
  },
  {
   "cell_type": "markdown",
   "id": "b90d4b01-51c1-457b-b90c-f8e8ef318113",
   "metadata": {},
   "source": [
    "### User-based"
   ]
  },
  {
   "cell_type": "code",
   "execution_count": 24,
   "id": "fedfd8dd-ae95-4514-bdb3-947a651d32aa",
   "metadata": {},
   "outputs": [],
   "source": [
    "def movie_recom(user_id, n):\n",
    "    movie_titles = movies[['movieId', 'title']]\n",
    "    users_items = pd.pivot_table(data=ratings, \n",
    "                                 values='rating', \n",
    "                                 index='userId', \n",
    "                                 columns='movieId')\n",
    "    users_items.fillna(0, inplace=True)\n",
    "    user_similarities = pd.DataFrame(cosine_similarity(users_items),\n",
    "                                 columns=users_items.index, \n",
    "                                 index=users_items.index)\n",
    "    weights = (user_similarities.query(\"userId!=@user_id\")[user_id] / sum(user_similarities.query(\"userId!=@user_id\")[user_id]))\n",
    "    not_visited_restaurants = users_items.loc[users_items.index!=user_id, users_items.loc[user_id,:]==0]\n",
    "    weighted_averages = pd.DataFrame(not_visited_restaurants.T.dot(weights), columns=[\"predicted_rating\"])\n",
    "    recommendations = weighted_averages.merge(movie_titles, left_index=True, right_on=\"movieId\")\n",
    "    return recommendations.sort_values(\"predicted_rating\", ascending=False).head(n)['title'].to_list()"
   ]
  },
  {
   "cell_type": "code",
   "execution_count": 25,
   "id": "0d6be201-5562-4cc4-970c-035d7c457264",
   "metadata": {},
   "outputs": [
    {
     "data": {
      "text/plain": [
       "['Aladdin (1992)',\n",
       " 'Toy Story (1995)',\n",
       " 'Matrix, The (1999)',\n",
       " 'Beauty and the Beast (1991)',\n",
       " 'Star Wars: Episode V - The Empire Strikes Back (1980)',\n",
       " 'Star Wars: Episode VI - Return of the Jedi (1983)',\n",
       " 'Raiders of the Lost Ark (Indiana Jones and the Raiders of the Lost Ark) (1981)',\n",
       " 'Godfather, The (1972)',\n",
       " 'Fight Club (1999)',\n",
       " 'Saving Private Ryan (1998)']"
      ]
     },
     "execution_count": 25,
     "metadata": {},
     "output_type": "execute_result"
    }
   ],
   "source": [
    "movie_recom(602, 10)"
   ]
  },
  {
   "cell_type": "markdown",
   "id": "db3f46f5-385b-4fcc-af62-e936fb06881f",
   "metadata": {},
   "source": [
    "## All three together"
   ]
  },
  {
   "cell_type": "code",
   "execution_count": 101,
   "id": "4667b355-cdff-491b-86dc-cc3d1fadd957",
   "metadata": {},
   "outputs": [],
   "source": [
    "def recommend_me_movies(*arg):\n",
    "    # Popularity-based:\n",
    "    if len(arg) == 1:\n",
    "        number_poprec = arg[0]\n",
    "        print(f'You have entered a single number. Here are your top {number_poprec} movie recommendations:')\n",
    "        ratings_new = pd.DataFrame(ratings.groupby('movieId')['rating'].mean())\n",
    "        ratings_new['rating_count'] = ratings.groupby('movieId')['rating'].count()\n",
    "        # 1. initialize the transformer (optionally, set parameters)\n",
    "        my_min_max = StandardScaler()\n",
    "        # 2. fit the transformer to the data\n",
    "        my_min_max.fit(ratings_new)\n",
    "        # 3. use the transformer to transform the data\n",
    "        min_max_scaled_ratings_new = my_min_max.transform(ratings_new)\n",
    "        # 4. reconvert the transformed data back to a DataFrame\n",
    "        df_min_max_scaled_ratings_new = pd.DataFrame(min_max_scaled_ratings_new,\n",
    "                                                     index=ratings_new.index,\n",
    "                                                     columns=ratings_new.columns)\n",
    "        df_min_max_scaled_ratings_new['score'] = df_min_max_scaled_ratings_new['rating'] * df_min_max_scaled_ratings_new['rating_count']\n",
    "        top_number = df_min_max_scaled_ratings_new.sort_values(by = 'score', ascending = False).head(number_poprec).reset_index()\n",
    "        top_number_with_titles = pd.merge(movies, top_number, how='inner', on = 'movieId')\n",
    "        return top_number_with_titles.sort_values(by = 'score', ascending = False)['title'].to_list()\n",
    "    # User-based:\n",
    "    elif (len(arg) == 2) and (str(arg[0]).isnumeric()):\n",
    "        user_id = arg[0]\n",
    "        number_userrec = arg[1]\n",
    "        print(f'You have entered two numbers. Here are your top {number_userrec} movie recommendations according to user {user_id}´s ratings:')\n",
    "        movie_titles = movies[['movieId', 'title']]\n",
    "        users_items = pd.pivot_table(data=ratings, \n",
    "                                     values='rating', \n",
    "                                     index='userId', \n",
    "                                     columns='movieId')\n",
    "        users_items.fillna(0, inplace=True)\n",
    "        user_similarities = pd.DataFrame(cosine_similarity(users_items),\n",
    "                                         columns=users_items.index, \n",
    "                                         index=users_items.index)\n",
    "        weights = (user_similarities.query(\"userId!=@user_id\")[user_id] / sum(user_similarities.query(\"userId!=@user_id\")[user_id]))\n",
    "        not_visited_restaurants = users_items.loc[users_items.index!=user_id, users_items.loc[user_id,:]==0]\n",
    "        weighted_averages = pd.DataFrame(not_visited_restaurants.T.dot(weights), columns=[\"predicted_rating\"])\n",
    "        recommendations = weighted_averages.merge(movie_titles, left_index=True, right_on=\"movieId\")\n",
    "        return recommendations.sort_values(\"predicted_rating\", ascending=False).head(number_userrec)['title'].to_list()\n",
    "    # Item-based:\n",
    "    else:\n",
    "        title = arg[0]\n",
    "        number_itemrec = arg[1]\n",
    "        print(f'You have entered a movie title and a number. Here are your top {number_itemrec} movie recommendations according to user {title}´s ratings:')\n",
    "        movies['title_wo_yr'] = movies['title'].str[:-7]\n",
    "        movies_crosstab = pd.pivot_table(data=ratings, values='rating', index='userId', columns='movieId')\n",
    "        top_popular_movieID = int(movies['movieId'].loc[movies['title_wo_yr'] == title])\n",
    "        top_ratings = movies_crosstab[top_popular_movieID]\n",
    "        top_ratings[top_ratings.notna()]\n",
    "        similar_to_movie_id = movies_crosstab.corrwith(top_ratings)\n",
    "        corr_movie_id = pd.DataFrame(similar_to_movie_id, columns=['PearsonR'])\n",
    "        corr_movie_id.dropna(inplace=True)\n",
    "        rating = pd.DataFrame(ratings.groupby('movieId')['rating'].mean())\n",
    "        rating['rating_count'] = ratings.groupby('movieId')['rating'].count()\n",
    "        movie_id_corr_summary = corr_movie_id.join(rating['rating_count'])\n",
    "        movie_id_corr_summary.drop(top_popular_movieID, inplace=True)\n",
    "        top_number = movie_id_corr_summary[movie_id_corr_summary['rating_count']>=10].sort_values('PearsonR', ascending=False).head(number_itemrec)\n",
    "        top_number_with_titles = pd.merge(movies, top_number, how='inner', on = 'movieId')\n",
    "        return top_number_with_titles['title'].to_list()"
   ]
  },
  {
   "cell_type": "code",
   "execution_count": 111,
   "id": "9f9e59c9-db3d-47e8-8acb-e1abadda8f47",
   "metadata": {},
   "outputs": [
    {
     "name": "stdout",
     "output_type": "stream",
     "text": [
      "You have entered a movie title and a number. Here are your top 10 movie recommendations according to user Terminator, The´s ratings:\n"
     ]
    },
    {
     "data": {
      "text/plain": [
       "['Forget Paris (1995)',\n",
       " 'M (1931)',\n",
       " 'Body Heat (1981)',\n",
       " 'Harvey (1950)',\n",
       " 'Hostel (2005)',\n",
       " 'Princess and the Frog, The (2009)',\n",
       " 'Warrior (2011)',\n",
       " 'Louis C.K.: Live at the Beacon Theater (2011)',\n",
       " 'Hotel Transylvania (2012)',\n",
       " 'Horrible Bosses 2 (2014)']"
      ]
     },
     "execution_count": 111,
     "metadata": {},
     "output_type": "execute_result"
    }
   ],
   "source": [
    "recommend_me_movies('Terminator', 10)"
   ]
  },
  {
   "cell_type": "code",
   "execution_count": null,
   "id": "fcd96f8d-53fa-46a3-ad04-5814ab581e33",
   "metadata": {},
   "outputs": [],
   "source": []
  }
 ],
 "metadata": {
  "kernelspec": {
   "display_name": "Python 3 (ipykernel)",
   "language": "python",
   "name": "python3"
  },
  "language_info": {
   "codemirror_mode": {
    "name": "ipython",
    "version": 3
   },
   "file_extension": ".py",
   "mimetype": "text/x-python",
   "name": "python",
   "nbconvert_exporter": "python",
   "pygments_lexer": "ipython3",
   "version": "3.9.7"
  }
 },
 "nbformat": 4,
 "nbformat_minor": 5
}
